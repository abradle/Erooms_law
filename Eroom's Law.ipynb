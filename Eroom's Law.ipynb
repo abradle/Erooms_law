{
 "cells": [
  {
   "cell_type": "markdown",
   "metadata": {
    "toc": true
   },
   "source": [
    "<h1>Table of Contents<span class=\"tocSkip\"></span></h1>\n",
    "<div class=\"toc\"><ul class=\"toc-item\"><li><span><a href=\"#Introduction\" data-toc-modified-id=\"Introduction-1\"><span class=\"toc-item-num\">1&nbsp;&nbsp;</span>Introduction</a></span></li><li><span><a href=\"#Package-Imports\" data-toc-modified-id=\"Package-Imports-2\"><span class=\"toc-item-num\">2&nbsp;&nbsp;</span>Package Imports</a></span></li><li><span><a href=\"#Organize-Data-from-PhRMA-Report\" data-toc-modified-id=\"Organize-Data-from-PhRMA-Report-3\"><span class=\"toc-item-num\">3&nbsp;&nbsp;</span>Organize Data from PhRMA Report</a></span></li><li><span><a href=\"#Collect-FDA-Data\" data-toc-modified-id=\"Collect-FDA-Data-4\"><span class=\"toc-item-num\">4&nbsp;&nbsp;</span>Collect FDA Data</a></span></li><li><span><a href=\"#Combine-Data-Sources\" data-toc-modified-id=\"Combine-Data-Sources-5\"><span class=\"toc-item-num\">5&nbsp;&nbsp;</span>Combine Data Sources</a></span></li><li><span><a href=\"#Plot-Data\" data-toc-modified-id=\"Plot-Data-6\"><span class=\"toc-item-num\">6&nbsp;&nbsp;</span>Plot Data</a></span></li><li><span><a href=\"#Citations\" data-toc-modified-id=\"Citations-7\"><span class=\"toc-item-num\">7&nbsp;&nbsp;</span>Citations</a></span><ul class=\"toc-item\"><li><span><a href=\"#Data-Sources\" data-toc-modified-id=\"Data-Sources-7.1\"><span class=\"toc-item-num\">7.1&nbsp;&nbsp;</span>Data Sources</a></span></li><li><span><a href=\"#References\" data-toc-modified-id=\"References-7.2\"><span class=\"toc-item-num\">7.2&nbsp;&nbsp;</span>References</a></span></li></ul></li></ul></div>"
   ]
  },
  {
   "cell_type": "markdown",
   "metadata": {},
   "source": [
    "# Eroom's Law\n",
    "\n",
    "## Introduction\n",
    "\n",
    "Many are familiar with [Moore's Law](https://en.wikipedia.org/wiki/Moore%27s_law), but few people outside of biotech are familar with Eroom's Law. \n",
    "\n",
    "[Eroom's Law](https://en.wikipedia.org/wiki/Eroom%27s_law) formalizes the idea that drug discovery has gotten less efficient as time goes on. The law states that the number of drugs approved per billion dollars spent on R&D will half approximately every 9 years. \n",
    "\n",
    "When this problem was originally observed, solutions to the problem were mostly centered around cutting costs in drug development. A quote from a Nature Drug Discovery paper sums up ideas from a few sources,\n",
    "\n",
    "> _... greater management attention to factors such as project\n",
    "costs and speed of implementation, by\n",
    "reorganizing R&D structures into smaller\n",
    "focused units in some cases or larger units\n",
    "with superior economies of scale in others,\n",
    "by outsourcing to lower-cost countries,\n",
    "by adjusting management metrics and\n",
    "introducing R&D ‘performance scorecards’, or by somehow making scientists\n",
    "more ‘entrepreneurial’_ <sup>1</sup>\n",
    "\n",
    "This type of mindset essentially boils down to reducing spending to improve efficiency. \n",
    "\n",
    "\n",
    "---\n",
    "\n",
    "Since the posting of the quoted article, machine and deep learning have exploded in generalizability and overall effectiveness. In this notebook, I'll explore whether these technologies have had an effect on the trend of Eroom's Law."
   ]
  },
  {
   "cell_type": "markdown",
   "metadata": {},
   "source": [
    "## Package Imports"
   ]
  },
  {
   "cell_type": "code",
   "execution_count": 481,
   "metadata": {
    "ExecuteTime": {
     "end_time": "2019-08-10T22:46:57.236188Z",
     "start_time": "2019-08-10T22:46:57.222189Z"
    }
   },
   "outputs": [],
   "source": [
    "import pandas as pd\n",
    "import matplotlib.pyplot as plt\n",
    "import numpy as np\n",
    "import requests\n",
    "import xml.etree.ElementTree as ET\n",
    "from IPython.display import clear_output\n",
    "import datetime\n",
    "import itertools\n",
    "import re\n",
    "import lxml.html\n",
    "from matplotlib.ticker import ScalarFormatter"
   ]
  },
  {
   "cell_type": "markdown",
   "metadata": {},
   "source": [
    "## Organize Data from PhRMA Report\n",
    "\n",
    "https://www.phrma.org/report/2019-phrma-annual-membership-survey\n",
    "\n",
    "The PhRMA organization puts out a yearly report on the biopharmaceutical industry. They include about 40 years of historical data in the report."
   ]
  },
  {
   "cell_type": "code",
   "execution_count": 475,
   "metadata": {
    "ExecuteTime": {
     "end_time": "2019-08-10T22:40:27.635187Z",
     "start_time": "2019-08-10T22:40:27.630811Z"
    }
   },
   "outputs": [
    {
     "data": {
      "text/plain": [
       "['Year',\n",
       " 'Domestic_RD',\n",
       " 'Annual Percentage_Change ',\n",
       " 'RD_Abroad',\n",
       " 'Annual_Percentage_Change ',\n",
       " 'Total_RD',\n",
       " 'Annual_Percentage_Change']"
      ]
     },
     "execution_count": 475,
     "metadata": {},
     "output_type": "execute_result"
    }
   ],
   "source": [
    "pharma_columns = \"\"\"Year\n",
    "Domestic_RD\n",
    "Annual Percentage_Change \n",
    "RD_Abroad\n",
    "Annual_Percentage_Change \n",
    "Total_RD\n",
    "Annual_Percentage_Change\"\"\"\n",
    "\n",
    "pharma_columns = pharma_columns.split('\\n')\n",
    "pharma_columns"
   ]
  },
  {
   "cell_type": "code",
   "execution_count": 476,
   "metadata": {
    "ExecuteTime": {
     "end_time": "2019-08-10T22:40:28.340790Z",
     "start_time": "2019-08-10T22:40:28.336483Z"
    },
    "scrolled": true
   },
   "outputs": [],
   "source": [
    "pharma_data = \"\"\"2018 $62,219.7 11.6% $17,383.1 11.1% $79,602.8 11.5%\n",
    "2017 $55,755.0 6.4% $15,644.4 19.2% $71,399.4 8.9%\n",
    "2016 $52,418.2 9.0% $13,120.1 13.8% $65,538.3 9.9%\n",
    "2015 $48,110.5 18.1% $11,531.9 -7.9% $59,642.4 12.0%\n",
    "2014 $40,737.3 0.8% $12,515.9 11.6% $53,253.2 3.2%\n",
    "2013 $40,396.0 7.7% $11,217.6 -7.1% $51,613.6 4.1%\n",
    "2012 $37,510.2 3.1% $12,077.4 -1.6% $49,587.6 1.9%\n",
    "2011 $36,373.6 -10.6% $12,271.4 22.4% $48,645.0 -4.1%\n",
    "2010 $40,688.1 15.1% $10,021.7 -9.6% $50,709.8 9.2%\n",
    "2009 $35,356.0 -0.6% $11,085.6 -6.1% $46,441.6 -2.0%\n",
    "2008 $35,571.1 -2.8% $11,812.0 4.6% $47,383.1 -1.1%\n",
    "2007 $36,608.4 7.8% $11,294.8 25.4% $47,903.1 11.5%\n",
    "2006 $33,967.9 9.7% $9,005.6 1.3% $42,973.5 7.8%\n",
    "2005 $30,969.0 4.8% $8,888.9 19.1% $39,857.9 7.7%\n",
    "2004 $29,555.5 9.2% $7,462.6 1.0% $37,018.1 7.4%\n",
    "2003 $27,064.9 5.5% $7,388.4 37.9% $34,453.3 11.1%\n",
    "2002 $25,655.1 9.2% $5,357.2 -13.9% $31,012.2 4.2%\n",
    "2001 $23,502.0 10.0% $6,220.6 33.3% $29,772.7 14.4%\n",
    "2000 $21,363.7 15.7% $4,667.1 10.6% $26,030.8 14.7%\n",
    "1999 $18,471.1 7.4% $4,219.6 9.9% $22,690.7 8.2%\n",
    "1998 $17,127.9 11.0% $3,839.0 9.9% $20,966.9 10.8%\n",
    "1997 $15,466.0 13.9% $3,492.1 6.5% $18,958.1 12.4%\n",
    "1996 $13,627.1 14.8% $3,278.5 -1.6% $16,905.6 11.2%\n",
    "1995 $11,874.0 7.0% $3,333.5 *** $15,207.4 ***\n",
    "1994 $11,101.6 6.0% $2,347.8 3.8% $13,449.4 5.6%\n",
    "1993 $10,477.1 12.5% $2,262.9 5.0% $12,740.0 11.1%\n",
    "1992 $9,312.1 17.4% $2,155.8 21.3% $11,467.9 18.2%\n",
    "1991 $7,928.6 16.5% $1,776.8 9.9% $9,705.4 15.3%\n",
    "1990 $6,802.9 13.0% $1,617.4 23.6% $8,420.3 14.9%\n",
    "1989 $6,021.4 15.0% $1,308.6 0.4% $7,330.0 12.1%\n",
    "1988 $5,233.9 16.2% $1,303.6 30.6% $6,537.5 18.8%\n",
    "1987 $4,504.1 16.2% $998.1 15.4% $5,502.2 16.1%\n",
    "1986 $3,875.0 14.7% $865.1 23.8% $4,740.1 16.2%\n",
    "1985 $3,378.7 13.3% $698.9 17.2% $4,077.6 13.9%\n",
    "1984 $2,982.4 11.6% $596.4 9.2% $3,578.8 11.2%\n",
    "1983 $2,671.3 17.7% $546.3 8.2% $3,217.6 16.0%\n",
    "1982 $2,268.7 21.3% $505.0 7.7% $2,773.7 18.6%\n",
    "1981 $1,870.4 20.7% $469.1 9.7% $2,339.5 18.4%\n",
    "1980 $1,549.2 16.7% $427.5 42.8% $1,976.7 21.5%\"\"\"\n",
    "\n",
    "pharma_data = re.sub('[\\$,]', '', pharma_data)"
   ]
  },
  {
   "cell_type": "code",
   "execution_count": 477,
   "metadata": {
    "ExecuteTime": {
     "end_time": "2019-08-10T22:40:29.010264Z",
     "start_time": "2019-08-10T22:40:28.989249Z"
    }
   },
   "outputs": [
    {
     "data": {
      "text/html": [
       "<div>\n",
       "<style scoped>\n",
       "    .dataframe tbody tr th:only-of-type {\n",
       "        vertical-align: middle;\n",
       "    }\n",
       "\n",
       "    .dataframe tbody tr th {\n",
       "        vertical-align: top;\n",
       "    }\n",
       "\n",
       "    .dataframe thead th {\n",
       "        text-align: right;\n",
       "    }\n",
       "</style>\n",
       "<table border=\"1\" class=\"dataframe\">\n",
       "  <thead>\n",
       "    <tr style=\"text-align: right;\">\n",
       "      <th></th>\n",
       "      <th>Domestic_RD</th>\n",
       "      <th>Annual Percentage_Change</th>\n",
       "      <th>RD_Abroad</th>\n",
       "      <th>Annual_Percentage_Change</th>\n",
       "      <th>Total_RD</th>\n",
       "      <th>Annual_Percentage_Change</th>\n",
       "    </tr>\n",
       "    <tr>\n",
       "      <th>Year</th>\n",
       "      <th></th>\n",
       "      <th></th>\n",
       "      <th></th>\n",
       "      <th></th>\n",
       "      <th></th>\n",
       "      <th></th>\n",
       "    </tr>\n",
       "  </thead>\n",
       "  <tbody>\n",
       "    <tr>\n",
       "      <th>2018</th>\n",
       "      <td>62219.7</td>\n",
       "      <td>11.6%</td>\n",
       "      <td>17383.1</td>\n",
       "      <td>11.1%</td>\n",
       "      <td>79602.8</td>\n",
       "      <td>11.5%</td>\n",
       "    </tr>\n",
       "    <tr>\n",
       "      <th>2017</th>\n",
       "      <td>55755.0</td>\n",
       "      <td>6.4%</td>\n",
       "      <td>15644.4</td>\n",
       "      <td>19.2%</td>\n",
       "      <td>71399.4</td>\n",
       "      <td>8.9%</td>\n",
       "    </tr>\n",
       "    <tr>\n",
       "      <th>2016</th>\n",
       "      <td>52418.2</td>\n",
       "      <td>9.0%</td>\n",
       "      <td>13120.1</td>\n",
       "      <td>13.8%</td>\n",
       "      <td>65538.3</td>\n",
       "      <td>9.9%</td>\n",
       "    </tr>\n",
       "    <tr>\n",
       "      <th>2015</th>\n",
       "      <td>48110.5</td>\n",
       "      <td>18.1%</td>\n",
       "      <td>11531.9</td>\n",
       "      <td>-7.9%</td>\n",
       "      <td>59642.4</td>\n",
       "      <td>12.0%</td>\n",
       "    </tr>\n",
       "    <tr>\n",
       "      <th>2014</th>\n",
       "      <td>40737.3</td>\n",
       "      <td>0.8%</td>\n",
       "      <td>12515.9</td>\n",
       "      <td>11.6%</td>\n",
       "      <td>53253.2</td>\n",
       "      <td>3.2%</td>\n",
       "    </tr>\n",
       "  </tbody>\n",
       "</table>\n",
       "</div>"
      ],
      "text/plain": [
       "     Domestic_RD Annual Percentage_Change  RD_Abroad  \\\n",
       "Year                                                   \n",
       "2018     62219.7                     11.6%   17383.1   \n",
       "2017     55755.0                      6.4%   15644.4   \n",
       "2016     52418.2                      9.0%   13120.1   \n",
       "2015     48110.5                     18.1%   11531.9   \n",
       "2014     40737.3                      0.8%   12515.9   \n",
       "\n",
       "     Annual_Percentage_Change  Total_RD Annual_Percentage_Change  \n",
       "Year                                                              \n",
       "2018                     11.1%  79602.8                    11.5%  \n",
       "2017                     19.2%  71399.4                     8.9%  \n",
       "2016                     13.8%  65538.3                     9.9%  \n",
       "2015                     -7.9%  59642.4                    12.0%  \n",
       "2014                     11.6%  53253.2                     3.2%  "
      ]
     },
     "execution_count": 477,
     "metadata": {},
     "output_type": "execute_result"
    }
   ],
   "source": [
    "### Split by newline character to separate years\n",
    "pharma_data_list = pharma_data.split('\\n')\n",
    "### Split each year's list into columns using space as the delimiter\n",
    "pharma_data_df_list = [i.split(' ') for i in pharma_data_list]\n",
    "\n",
    "r_d_by_year = pd.DataFrame(pharma_data_df_list, columns=pharma_columns)\n",
    "r_d_by_year = r_d_by_year.set_index('Year')\n",
    "r_d_by_year.head()"
   ]
  },
  {
   "cell_type": "markdown",
   "metadata": {},
   "source": [
    "## Collect FDA Data\n",
    "\n",
    "Below, I'll scrape the FDA's website for drugs approved in each year in the range of interest."
   ]
  },
  {
   "cell_type": "code",
   "execution_count": 478,
   "metadata": {
    "ExecuteTime": {
     "end_time": "2019-08-10T22:40:35.316907Z",
     "start_time": "2019-08-10T22:40:35.304323Z"
    }
   },
   "outputs": [
    {
     "data": {
      "text/plain": [
       "['01', '02', '03', '04', '05', '06', '07', '08', '09', '10', '11', '12']"
      ]
     },
     "execution_count": 478,
     "metadata": {},
     "output_type": "execute_result"
    }
   ],
   "source": [
    "### Create list of months\n",
    "months = []\n",
    "for i in range(1,13):\n",
    "    months.append(datetime.date(2008, i, 1).strftime('%m'))\n",
    "months"
   ]
  },
  {
   "cell_type": "code",
   "execution_count": 479,
   "metadata": {
    "ExecuteTime": {
     "end_time": "2019-08-10T22:40:36.569453Z",
     "start_time": "2019-08-10T22:40:36.564155Z"
    }
   },
   "outputs": [
    {
     "name": "stdout",
     "output_type": "stream",
     "text": [
      "['1980', '1981', '1982', '1983', '1984']  . . .  ['2014', '2015', '2016', '2017', '2018']\n"
     ]
    }
   ],
   "source": [
    "### Create list of years\n",
    "years = [str(i) for i in range(1980, 2019)]\n",
    "print(years[:5], ' . . . ', years[-5:])\n",
    "\n",
    "### Itertools.product essentially cross joins the lists, \n",
    "### giving all possibile combinations of the lists' members\n",
    "months_years = itertools.product(months, years)"
   ]
  },
  {
   "cell_type": "markdown",
   "metadata": {},
   "source": [
    "The FDA Database's URL has two parameters we'll manipulate. Users can supply a month and year to the URL to retrieve a table of drugs approved in that month. An example URL is below.\n",
    "\n",
    "https://www.accessdata.fda.gov/scripts/cder/daf/index.cfm?event=reportsSearch.process&rptName=0&reportSelectMonth=02&reportSelectYear=1980&nav#navigation"
   ]
  },
  {
   "cell_type": "code",
   "execution_count": 494,
   "metadata": {
    "ExecuteTime": {
     "end_time": "2019-08-10T22:59:52.387644Z",
     "start_time": "2019-08-10T22:57:39.531445Z"
    }
   },
   "outputs": [
    {
     "data": {
      "text/html": [
       "<div>\n",
       "<style scoped>\n",
       "    .dataframe tbody tr th:only-of-type {\n",
       "        vertical-align: middle;\n",
       "    }\n",
       "\n",
       "    .dataframe tbody tr th {\n",
       "        vertical-align: top;\n",
       "    }\n",
       "\n",
       "    .dataframe thead th {\n",
       "        text-align: right;\n",
       "    }\n",
       "</style>\n",
       "<table border=\"1\" class=\"dataframe\">\n",
       "  <thead>\n",
       "    <tr style=\"text-align: right;\">\n",
       "      <th></th>\n",
       "      <th>Approval Date</th>\n",
       "      <th>Drug Name</th>\n",
       "      <th>Submission</th>\n",
       "      <th>Active Ingredients</th>\n",
       "      <th>Company</th>\n",
       "      <th>Submission Classification</th>\n",
       "      <th>Submission Status</th>\n",
       "    </tr>\n",
       "  </thead>\n",
       "  <tbody>\n",
       "    <tr>\n",
       "      <th>0</th>\n",
       "      <td>03/03/1986</td>\n",
       "      <td>Click to view SYMMETREL (AMANTADINE HYDROCHLOR...</td>\n",
       "      <td>SUPPL-7</td>\n",
       "      <td>AMANTADINE HYDROCHLORIDE</td>\n",
       "      <td>ENDO PHARMS</td>\n",
       "      <td>Labeling</td>\n",
       "      <td>Approval</td>\n",
       "    </tr>\n",
       "    <tr>\n",
       "      <th>1</th>\n",
       "      <td>03/03/1986</td>\n",
       "      <td>Click to view TRIFLUOPERAZINE HYDROCHLORIDE (T...</td>\n",
       "      <td>SUPPL-33</td>\n",
       "      <td>TRIFLUOPERAZINE HYDROCHLORIDE</td>\n",
       "      <td>SANDOZ</td>\n",
       "      <td>Manufacturing (CMC)</td>\n",
       "      <td>Approval</td>\n",
       "    </tr>\n",
       "    <tr>\n",
       "      <th>2</th>\n",
       "      <td>03/03/1986</td>\n",
       "      <td>Click to view TRIFLUOPERAZINE HYDROCHLORIDE (T...</td>\n",
       "      <td>SUPPL-34</td>\n",
       "      <td>TRIFLUOPERAZINE HYDROCHLORIDE</td>\n",
       "      <td>SANDOZ</td>\n",
       "      <td>Manufacturing (CMC)</td>\n",
       "      <td>Approval</td>\n",
       "    </tr>\n",
       "    <tr>\n",
       "      <th>3</th>\n",
       "      <td>03/03/1986</td>\n",
       "      <td>Click to view TRIFLUOPERAZINE HYDROCHLORIDE (T...</td>\n",
       "      <td>SUPPL-32</td>\n",
       "      <td>TRIFLUOPERAZINE HYDROCHLORIDE</td>\n",
       "      <td>SANDOZ</td>\n",
       "      <td>Manufacturing (CMC)</td>\n",
       "      <td>Approval</td>\n",
       "    </tr>\n",
       "    <tr>\n",
       "      <th>4</th>\n",
       "      <td>03/03/1986</td>\n",
       "      <td>Click to view ACETAMINOPHEN AND CODEINE PHOSPH...</td>\n",
       "      <td>ORIG-1</td>\n",
       "      <td>ACETAMINOPHEN; CODEINE PHOSPHATE</td>\n",
       "      <td>MIKART</td>\n",
       "      <td>None</td>\n",
       "      <td>Approval</td>\n",
       "    </tr>\n",
       "  </tbody>\n",
       "</table>\n",
       "</div>"
      ],
      "text/plain": [
       "  Approval Date                                          Drug Name Submission  \\\n",
       "0    03/03/1986  Click to view SYMMETREL (AMANTADINE HYDROCHLOR...    SUPPL-7   \n",
       "1    03/03/1986  Click to view TRIFLUOPERAZINE HYDROCHLORIDE (T...   SUPPL-33   \n",
       "2    03/03/1986  Click to view TRIFLUOPERAZINE HYDROCHLORIDE (T...   SUPPL-34   \n",
       "3    03/03/1986  Click to view TRIFLUOPERAZINE HYDROCHLORIDE (T...   SUPPL-32   \n",
       "4    03/03/1986  Click to view ACETAMINOPHEN AND CODEINE PHOSPH...     ORIG-1   \n",
       "\n",
       "                 Active Ingredients      Company Submission Classification  \\\n",
       "0          AMANTADINE HYDROCHLORIDE  ENDO PHARMS                  Labeling   \n",
       "1     TRIFLUOPERAZINE HYDROCHLORIDE       SANDOZ       Manufacturing (CMC)   \n",
       "2     TRIFLUOPERAZINE HYDROCHLORIDE       SANDOZ       Manufacturing (CMC)   \n",
       "3     TRIFLUOPERAZINE HYDROCHLORIDE       SANDOZ       Manufacturing (CMC)   \n",
       "4  ACETAMINOPHEN; CODEINE PHOSPHATE       MIKART                      None   \n",
       "\n",
       "  Submission Status  \n",
       "0          Approval  \n",
       "1          Approval  \n",
       "2          Approval  \n",
       "3          Approval  \n",
       "4          Approval  "
      ]
     },
     "execution_count": 494,
     "metadata": {},
     "output_type": "execute_result"
    }
   ],
   "source": [
    "cell_list = []\n",
    "\n",
    "### Each loop will plug a different month, year combination into the FDA's URL\n",
    "for month, year in months_years:\n",
    "    \n",
    "    row_list = []\n",
    "    \n",
    "    # print(\"Month : \", month, \" // year : \", year)\n",
    "    url = \"\"\"https://www.accessdata.fda.gov/scripts/cder/daf/index.cfm?event=reportsSearch.process&rptName=0&reportSelectMonth={month}&reportSelectYear={year}&nav#navigation\"\"\".format(month=month, year=year)\n",
    "    content = requests.get(url).text\n",
    "    tree = lxml.html.fromstring(content)\n",
    "    \n",
    "    ### Each element in this list will an HTMLelement from the selected drug approval table\n",
    "    row_list = tree.xpath('//table[@id=\"example_1\"]/tbody/tr')\n",
    "\n",
    "    for element in row_list:\n",
    "        ### Each element in this list will be a row from a table, not necessarily the selected one\n",
    "        cell_list.append([cell.text if index != 1 else cell.find('a').get('title') for index, cell in enumerate(element.xpath('td'))])\n",
    "\n",
    "fda_columns = ['Approval Date', 'Drug Name', 'Submission', 'Active Ingredients', 'Company', 'Submission Classification', 'Submission Status']\n",
    "fda_data = pd.DataFrame(cell_list, columns = fda_columns)\n",
    "fda_data.head()"
   ]
  },
  {
   "cell_type": "code",
   "execution_count": 495,
   "metadata": {
    "ExecuteTime": {
     "end_time": "2019-08-10T23:04:21.689403Z",
     "start_time": "2019-08-10T23:04:21.133105Z"
    }
   },
   "outputs": [
    {
     "data": {
      "text/html": [
       "<div>\n",
       "<style scoped>\n",
       "    .dataframe tbody tr th:only-of-type {\n",
       "        vertical-align: middle;\n",
       "    }\n",
       "\n",
       "    .dataframe tbody tr th {\n",
       "        vertical-align: top;\n",
       "    }\n",
       "\n",
       "    .dataframe thead th {\n",
       "        text-align: right;\n",
       "    }\n",
       "</style>\n",
       "<table border=\"1\" class=\"dataframe\">\n",
       "  <thead>\n",
       "    <tr style=\"text-align: right;\">\n",
       "      <th></th>\n",
       "      <th>Approval Date</th>\n",
       "      <th>Drug Name</th>\n",
       "      <th>Submission</th>\n",
       "      <th>Active Ingredients</th>\n",
       "      <th>Company</th>\n",
       "      <th>Submission Classification</th>\n",
       "      <th>Submission Status</th>\n",
       "      <th>year</th>\n",
       "      <th>unique</th>\n",
       "    </tr>\n",
       "  </thead>\n",
       "  <tbody>\n",
       "    <tr>\n",
       "      <th>0</th>\n",
       "      <td>03/03/1986</td>\n",
       "      <td>SYMMETREL (AMANTADINE HYDROCHLORIDE)</td>\n",
       "      <td>SUPPL-7</td>\n",
       "      <td>AMANTADINE HYDROCHLORIDE</td>\n",
       "      <td>ENDO PHARMS</td>\n",
       "      <td>Labeling</td>\n",
       "      <td>Approval</td>\n",
       "      <td>1986</td>\n",
       "      <td>03/03/1986_SYMMETREL (AMANTADINE HYDROCHLORIDE...</td>\n",
       "    </tr>\n",
       "    <tr>\n",
       "      <th>1</th>\n",
       "      <td>03/03/1986</td>\n",
       "      <td>TRIFLUOPERAZINE HYDROCHLORIDE (TRIFLUOPERAZINE...</td>\n",
       "      <td>SUPPL-33</td>\n",
       "      <td>TRIFLUOPERAZINE HYDROCHLORIDE</td>\n",
       "      <td>SANDOZ</td>\n",
       "      <td>Manufacturing (CMC)</td>\n",
       "      <td>Approval</td>\n",
       "      <td>1986</td>\n",
       "      <td>03/03/1986_TRIFLUOPERAZINE HYDROCHLORIDE (TRIF...</td>\n",
       "    </tr>\n",
       "    <tr>\n",
       "      <th>2</th>\n",
       "      <td>03/03/1986</td>\n",
       "      <td>TRIFLUOPERAZINE HYDROCHLORIDE (TRIFLUOPERAZINE...</td>\n",
       "      <td>SUPPL-34</td>\n",
       "      <td>TRIFLUOPERAZINE HYDROCHLORIDE</td>\n",
       "      <td>SANDOZ</td>\n",
       "      <td>Manufacturing (CMC)</td>\n",
       "      <td>Approval</td>\n",
       "      <td>1986</td>\n",
       "      <td>03/03/1986_TRIFLUOPERAZINE HYDROCHLORIDE (TRIF...</td>\n",
       "    </tr>\n",
       "    <tr>\n",
       "      <th>3</th>\n",
       "      <td>03/03/1986</td>\n",
       "      <td>TRIFLUOPERAZINE HYDROCHLORIDE (TRIFLUOPERAZINE...</td>\n",
       "      <td>SUPPL-32</td>\n",
       "      <td>TRIFLUOPERAZINE HYDROCHLORIDE</td>\n",
       "      <td>SANDOZ</td>\n",
       "      <td>Manufacturing (CMC)</td>\n",
       "      <td>Approval</td>\n",
       "      <td>1986</td>\n",
       "      <td>03/03/1986_TRIFLUOPERAZINE HYDROCHLORIDE (TRIF...</td>\n",
       "    </tr>\n",
       "    <tr>\n",
       "      <th>4</th>\n",
       "      <td>03/03/1986</td>\n",
       "      <td>ACETAMINOPHEN AND CODEINE PHOSPHATE (ACETAMINO...</td>\n",
       "      <td>ORIG-1</td>\n",
       "      <td>ACETAMINOPHEN; CODEINE PHOSPHATE</td>\n",
       "      <td>MIKART</td>\n",
       "      <td>None</td>\n",
       "      <td>Approval</td>\n",
       "      <td>1986</td>\n",
       "      <td>03/03/1986_ACETAMINOPHEN AND CODEINE PHOSPHATE...</td>\n",
       "    </tr>\n",
       "  </tbody>\n",
       "</table>\n",
       "</div>"
      ],
      "text/plain": [
       "  Approval Date                                          Drug Name Submission  \\\n",
       "0    03/03/1986               SYMMETREL (AMANTADINE HYDROCHLORIDE)    SUPPL-7   \n",
       "1    03/03/1986  TRIFLUOPERAZINE HYDROCHLORIDE (TRIFLUOPERAZINE...   SUPPL-33   \n",
       "2    03/03/1986  TRIFLUOPERAZINE HYDROCHLORIDE (TRIFLUOPERAZINE...   SUPPL-34   \n",
       "3    03/03/1986  TRIFLUOPERAZINE HYDROCHLORIDE (TRIFLUOPERAZINE...   SUPPL-32   \n",
       "4    03/03/1986  ACETAMINOPHEN AND CODEINE PHOSPHATE (ACETAMINO...     ORIG-1   \n",
       "\n",
       "                 Active Ingredients      Company Submission Classification  \\\n",
       "0          AMANTADINE HYDROCHLORIDE  ENDO PHARMS                  Labeling   \n",
       "1     TRIFLUOPERAZINE HYDROCHLORIDE       SANDOZ       Manufacturing (CMC)   \n",
       "2     TRIFLUOPERAZINE HYDROCHLORIDE       SANDOZ       Manufacturing (CMC)   \n",
       "3     TRIFLUOPERAZINE HYDROCHLORIDE       SANDOZ       Manufacturing (CMC)   \n",
       "4  ACETAMINOPHEN; CODEINE PHOSPHATE       MIKART                      None   \n",
       "\n",
       "  Submission Status  year                                             unique  \n",
       "0          Approval  1986  03/03/1986_SYMMETREL (AMANTADINE HYDROCHLORIDE...  \n",
       "1          Approval  1986  03/03/1986_TRIFLUOPERAZINE HYDROCHLORIDE (TRIF...  \n",
       "2          Approval  1986  03/03/1986_TRIFLUOPERAZINE HYDROCHLORIDE (TRIF...  \n",
       "3          Approval  1986  03/03/1986_TRIFLUOPERAZINE HYDROCHLORIDE (TRIF...  \n",
       "4          Approval  1986  03/03/1986_ACETAMINOPHEN AND CODEINE PHOSPHATE...  "
      ]
     },
     "execution_count": 495,
     "metadata": {},
     "output_type": "execute_result"
    }
   ],
   "source": [
    "### Create a year variable for grouping later\n",
    "fda_data['year'] = [i[6:] for i in fda_data['Approval Date']]\n",
    "### Create a month_year variable for grouping\n",
    "### Not used for later analysis\n",
    "# fda_data['month_year'] = [i[0:2] + '-' + i[6:] for i in fda_data['Approval Date']]\n",
    "\n",
    "fda_data['Drug Name'] = [re.sub('Click to view ', '', i) for i in fda_data['Drug Name']]\n",
    "\n",
    "### Create a unique ID for each drug approved\n",
    "fda_data['unique'] = fda_data['Approval Date'] + '_' + fda_data['Drug Name'] + '_' + fda_data['Company']\n",
    "\n",
    "### Group the drugs but year, counting the number per year\n",
    "drugs_by_year = fda_data.groupby('year').agg('count')['unique']\n",
    "fda_data.head()"
   ]
  },
  {
   "cell_type": "markdown",
   "metadata": {},
   "source": [
    "## Combine Data Sources"
   ]
  },
  {
   "cell_type": "code",
   "execution_count": 496,
   "metadata": {
    "ExecuteTime": {
     "end_time": "2019-08-10T23:04:23.978989Z",
     "start_time": "2019-08-10T23:04:23.955481Z"
    }
   },
   "outputs": [
    {
     "data": {
      "text/html": [
       "<div>\n",
       "<style scoped>\n",
       "    .dataframe tbody tr th:only-of-type {\n",
       "        vertical-align: middle;\n",
       "    }\n",
       "\n",
       "    .dataframe tbody tr th {\n",
       "        vertical-align: top;\n",
       "    }\n",
       "\n",
       "    .dataframe thead th {\n",
       "        text-align: right;\n",
       "    }\n",
       "</style>\n",
       "<table border=\"1\" class=\"dataframe\">\n",
       "  <thead>\n",
       "    <tr style=\"text-align: right;\">\n",
       "      <th></th>\n",
       "      <th>year</th>\n",
       "      <th>Domestic_RD</th>\n",
       "      <th>number_of_drugs_approved</th>\n",
       "      <th>drugs_per_bill</th>\n",
       "      <th>drugs_per_bill_MA</th>\n",
       "    </tr>\n",
       "  </thead>\n",
       "  <tbody>\n",
       "    <tr>\n",
       "      <th>0</th>\n",
       "      <td>1980</td>\n",
       "      <td>1549.2</td>\n",
       "      <td>2196</td>\n",
       "      <td>1.417506</td>\n",
       "      <td>NaN</td>\n",
       "    </tr>\n",
       "    <tr>\n",
       "      <th>1</th>\n",
       "      <td>1981</td>\n",
       "      <td>1870.4</td>\n",
       "      <td>2304</td>\n",
       "      <td>1.231822</td>\n",
       "      <td>NaN</td>\n",
       "    </tr>\n",
       "    <tr>\n",
       "      <th>2</th>\n",
       "      <td>1982</td>\n",
       "      <td>2268.7</td>\n",
       "      <td>2925</td>\n",
       "      <td>1.289285</td>\n",
       "      <td>NaN</td>\n",
       "    </tr>\n",
       "    <tr>\n",
       "      <th>3</th>\n",
       "      <td>1983</td>\n",
       "      <td>2671.3</td>\n",
       "      <td>2066</td>\n",
       "      <td>0.773406</td>\n",
       "      <td>NaN</td>\n",
       "    </tr>\n",
       "    <tr>\n",
       "      <th>4</th>\n",
       "      <td>1984</td>\n",
       "      <td>2982.4</td>\n",
       "      <td>2508</td>\n",
       "      <td>0.840933</td>\n",
       "      <td>1.11059</td>\n",
       "    </tr>\n",
       "  </tbody>\n",
       "</table>\n",
       "</div>"
      ],
      "text/plain": [
       "   year Domestic_RD  number_of_drugs_approved  drugs_per_bill  \\\n",
       "0  1980      1549.2                      2196        1.417506   \n",
       "1  1981      1870.4                      2304        1.231822   \n",
       "2  1982      2268.7                      2925        1.289285   \n",
       "3  1983      2671.3                      2066        0.773406   \n",
       "4  1984      2982.4                      2508        0.840933   \n",
       "\n",
       "   drugs_per_bill_MA  \n",
       "0                NaN  \n",
       "1                NaN  \n",
       "2                NaN  \n",
       "3                NaN  \n",
       "4            1.11059  "
      ]
     },
     "execution_count": 496,
     "metadata": {},
     "output_type": "execute_result"
    }
   ],
   "source": [
    "### Create the plot DataFrame by combining PhRMA and FDA data\n",
    "plot_df = pd.concat([r_d_by_year, drugs_by_year], axis=1, sort=True)\n",
    "### Clean up the final DataFrame\n",
    "plot_df = plot_df.reset_index()\n",
    "plot_df = plot_df.rename({'unique':'number_of_drugs_approved', 'index' : 'year'},axis=1)\n",
    "plot_df = plot_df.loc[:, ['year', 'Domestic_RD', 'number_of_drugs_approved']]\n",
    "\n",
    "### Calulate the number of drugs approved per billion dollars spent on R&D\n",
    "plot_df['drugs_per_bill'] = plot_df['number_of_drugs_approved'].astype(float) / plot_df['Domestic_RD'].astype(float)\n",
    "\n",
    "### Calculate a 5 year moving average of the metric\n",
    "plot_df['drugs_per_bill_MA'] = plot_df['drugs_per_bill'].rolling(window=5).mean()\n",
    "\n",
    "plot_df.head()"
   ]
  },
  {
   "cell_type": "markdown",
   "metadata": {},
   "source": [
    "## Plot Data"
   ]
  },
  {
   "cell_type": "code",
   "execution_count": 521,
   "metadata": {
    "ExecuteTime": {
     "end_time": "2019-08-10T23:11:20.635329Z",
     "start_time": "2019-08-10T23:11:20.089204Z"
    }
   },
   "outputs": [
    {
     "data": {
      "image/png": "[encoded data removed]",
      "text/plain": [
       "<Figure size 1152x432 with 1 Axes>"
      ]
     },
     "metadata": {
      "needs_background": "light"
     },
     "output_type": "display_data"
    }
   ],
   "source": [
    "plt.figure(figsize=(16, 6))\n",
    "\n",
    "### Lines on the plot\n",
    "fig = sns.lineplot(x=\"year\", y='drugs_per_bill', data=plot_df, linewidth=4, \n",
    "                   label=\"Drugs Approved per Year\", color='#4b006e')\n",
    "fig = sns.lineplot(x=\"year\", y='drugs_per_bill_MA', data=plot_df, linewidth=2, \n",
    "                   alpha=1, linestyle='--', color='#d6b4fc',\n",
    "                   label=\"Drugs Approved per Year (trailing average)\")\n",
    "\n",
    "### Trend line with a 9 year halflife\n",
    "### x is an index the same length as the data\n",
    "x = np.array(range(len(plot_df)))\n",
    "### y_0 is the initial value from the data\n",
    "y_0 = plot_df.loc[0, 'drugs_per_bill']\n",
    "y = y_0*np.exp(-0.0770163534*x)\n",
    "fig.plot(x,y, linestyle='--', alpha=.5, color='gray', label=\"Eroom's Law Trend\")\n",
    "\n",
    "### Show every 3rd y-tick mark\n",
    "yticks = fig.xaxis.get_major_ticks()\n",
    "for i in yticks:\n",
    "    i.set_visible(False)\n",
    "for i in yticks[::3]:\n",
    "    i.set_visible(True)\n",
    "\n",
    "    \n",
    "    \n",
    "### Add horizontal bars for specific relevant events\n",
    "first_bar_label = \"\"\"In 2000, the first paper on\n",
    "DL was published.\"\"\"\n",
    "fig.text(19.8, 1.5, first_bar_label, fontsize=10, horizontalalignment='right')\n",
    "\n",
    "second_bar_label = \"\"\"In 2005, researchers began using\n",
    "molecular structure instead of\n",
    "'predefined molecular descriptors' as\n",
    "features in drug discovery DL.\"\"\"\n",
    "fig.text(25.3, 1.2, second_bar_label, fontsize=10, horizontalalignment='left')\n",
    "\n",
    "axes = plt.gca()\n",
    "#axes.set_ylim([0,2])\n",
    " \n",
    "fig.vlines('2000', -.2, 2, colors='#5729ce')\n",
    "fig.vlines('2005', -.2, 2, colors='#5729ce')\n",
    "\n",
    "[l.set_visible(False) for (i,l) in enumerate(fig.xaxis.get_ticklabels()) if i % 6 != 0]\n",
    "\n",
    "### Log scale the Y-axis then remove scientific notation\n",
    "fig.set_yscale('log')\n",
    "sf = ScalarFormatter()\n",
    "sf.set_scientific(False)\n",
    "axes.yaxis.set_major_formatter(sf)\n",
    "\n",
    "### Remove plot frame\n",
    "fig.spines['top'].set_visible(False)\n",
    "fig.spines['right'].set_visible(False)\n",
    "fig.grid(which='major', axis='x', linestyle='--', linewidth=.3)\n",
    "\n",
    "### Labels\n",
    "plt.xlabel(\"Year\", fontsize=14, labelpad=15)\n",
    "plt.ylabel(\"log(Drugs per $1B)\", fontsize=14)\n",
    "plt.title(\"Efficiency of Drug Discovery\", fontsize=30, fontweight='bold', pad=15, loc='left') # You can comment this line out if you don't need title\n",
    "\n",
    "fig.legend(loc='lower left', fontsize=12, frameon=False)\n",
    "plt.show(fig)"
   ]
  },
  {
   "cell_type": "markdown",
   "metadata": {},
   "source": [
    "While the first paper didn't have an immediate affect on the drug discovery ecosystem; in the decade following, the decline in productivity appears to be much less stable than it had been previously. \n",
    "\n",
    "Its a too soon and this notebook is too light on data to officially declare a break in a trend like Eroom's Law, but it is interesting to speculate about the effect ML/DL had on drug discovery.\n",
    "\n",
    "In the late 2000's and early 2010's, when people speculated about what advances in drug discovery would look like in the coming decade, they assumed it would primarily involve increasing operational efficiency <sup>1</sup>. Very few people anticipated the effect of new technologies like ML/DL on drug discovery. \n",
    "\n",
    "Increasing efficency is typically beneficial in business but decreasing the denomenator (reducing costs) of this productivity metric is only half of the battle. Increasing the numerator (# of drugs produced/approved) is another option in disrupting this trend that may both prove more efficient for pharma companies and provide the general population with more drugs for more conditions. "
   ]
  },
  {
   "cell_type": "markdown",
   "metadata": {},
   "source": [
    "## Citations\n",
    "\n",
    "### Data Sources\n",
    "\n",
    "- [PhRMA Data](https://www.phrma.org/report/2019-phrma-annual-membership-survey)\n",
    "    - Yearly report of biopharmaceutical industry showing amount of R&D spending and sales.\n",
    "\n",
    "- [FDA Drug Approval Data](https://www.accessdata.fda.gov/scripts/cder/daf/index.cfm?event=reportsSearch.process&rptName=0&reportSelectMonth=02&reportSelectYear=1980&nav#navigation)\n",
    "    - Table of drugs approved in a specific month.\n",
    "\n",
    "\n",
    "\n",
    "### References\n",
    "1. https://blogs.sciencemag.org/pipeline/archives/2012/03/08/erooms_law\n",
    "\n",
    "\n",
    "\n",
    "2. Hongming Chen, Ola Engkvist, Yinhai Wang, Marcus Olivecrona, Thomas Blaschke,\n",
    "    The rise of deep learning in drug discovery,\n",
    "    Drug Discovery Today,\n",
    "    Volume 23, Issue 6,\n",
    "    2018,\n",
    "    Pages 1241-1250,\n",
    "    ISSN 1359-6446,\n",
    "    https://doi.org/10.1016/j.drudis.2018.01.039.\n",
    "    (http://www.sciencedirect.com/science/article/pii/S1359644617303598)\n",
    "\n",
    "\n",
    "3. https://en.wikipedia.org/wiki/Moore%27s_law\n",
    "\n",
    "\n",
    "4. https://en.wikipedia.org/wiki/Eroom%27s_law\n",
    "\n",
    "\n",
    "5. http://wavefunction.fieldofscience.com/2012/03/unstoppable-moore-hits-immovable-eroom.html\n",
    "\n",
    "\n",
    "6. APA 5th Edition: Journal article\n",
    "    (Scannell, Blanckley, Boldon, & Warrington, 2012, p. ) \n",
    "    Scannell, J. W., Blanckley, A., Boldon, H., & Warrington, B. (2012). Diagnosing the decline in pharmaceutical R&amp;D efficiency. Nature Reviews Drug Discovery 64(2), p. 10-12."
   ]
  }
 ],
 "metadata": {
  "kernelspec": {
   "display_name": "Python 3",
   "language": "python",
   "name": "python3"
  },
  "language_info": {
   "codemirror_mode": {
    "name": "ipython",
    "version": 3
   },
   "file_extension": ".py",
   "mimetype": "text/x-python",
   "name": "python",
   "nbconvert_exporter": "python",
   "pygments_lexer": "ipython3",
   "version": "3.7.3"
  },
  "toc": {
   "base_numbering": 1,
   "nav_menu": {},
   "number_sections": true,
   "sideBar": true,
   "skip_h1_title": true,
   "title_cell": "Table of Contents",
   "title_sidebar": "Contents",
   "toc_cell": true,
   "toc_position": {},
   "toc_section_display": true,
   "toc_window_display": true
  },
  "varInspector": {
   "cols": {
    "lenName": 16,
    "lenType": 16,
    "lenVar": 40
   },
   "kernels_config": {
    "python": {
     "delete_cmd_postfix": "",
     "delete_cmd_prefix": "del ",
     "library": "var_list.py",
     "varRefreshCmd": "print(var_dic_list())"
    },
    "r": {
     "delete_cmd_postfix": ") ",
     "delete_cmd_prefix": "rm(",
     "library": "var_list.r",
     "varRefreshCmd": "cat(var_dic_list()) "
    }
   },
   "types_to_exclude": [
    "module",
    "function",
    "builtin_function_or_method",
    "instance",
    "_Feature"
   ],
   "window_display": false
  }
 },
 "nbformat": 4,
 "nbformat_minor": 2
}
